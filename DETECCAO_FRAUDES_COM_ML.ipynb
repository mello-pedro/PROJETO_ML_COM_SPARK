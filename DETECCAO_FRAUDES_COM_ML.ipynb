{
 "cells": [
  {
   "cell_type": "markdown",
   "metadata": {
    "application/vnd.databricks.v1+cell": {
     "cellMetadata": {
      "byteLimit": 2048000,
      "rowLimit": 10000
     },
     "inputWidgets": {},
     "nuid": "ce9bef1d-b5c5-4f21-970b-340a4ca84044",
     "showTitle": false,
     "title": ""
    }
   },
   "source": [
    "# Projeto Final - Grandes dados para a Gestão (Mestrado MCDE 2023/2024)\n",
    "\n",
    "## PySpark ML Fraud Detection\n",
    "\n",
    "> Este projeto tem por escopo o desenvolvimento de um Pipeline de Machine Learning com uso do Spark.\n",
    "<br>\n",
    "<br>\n",
    "> É necessário que sejam satisfeitas as etapas de feature engineering, criação do pipeline e treino/avaliação do modelo desenvolvido.\n",
    "<br>\n",
    "<br>\n",
    "> Para tanto, deve ser utilizado o Data Set \"Credit Card Fraud Detection\", tendo como principal objetivo prever com a maior acurácia possível o target, que neste caso é a variável binária \"Class\".\n",
    "\n",
    "<br>\n",
    "CLASS PODE ASSUMIR OS SEGUINTES VALORES:\n",
    "\n",
    "| Class | Valor de Referência   |\n",
    "|-------|-----------------------|\n",
    "| 0     | Não fraudulenta       |\n",
    "| 1     | Fraude                |\n"
   ]
  },
  {
   "cell_type": "markdown",
   "metadata": {
    "application/vnd.databricks.v1+cell": {
     "cellMetadata": {
      "byteLimit": 2048000,
      "rowLimit": 10000
     },
     "inputWidgets": {},
     "nuid": "6edc95e8-a22f-4a45-af62-968c0b291ae5",
     "showTitle": false,
     "title": ""
    }
   },
   "source": [
    "### SAMPLE DOS DADOS\n",
    "\n",
    "> A seguir apresento um sample dos dados, para conhecimento da estrutura.\n",
    "<br>\n",
    "\n",
    "> Percebe-se que os dados encontram-se padronizados e normalizados, à exceção da Feature \"Amount\". A ausência de normalização desta feature não implicará em problemas no desempenho do modelo classificação, desde que faça a opção por utilizar modelos em árvore.\n",
    "<br>\n",
    "\n",
    "> Se por outro lado dicidisse pela utilização de modelos baseados em Gradiente descent, como é o caso da Regressão Logísitca, faz-se necessário realizar a normalização desta feature para não destoar da escala das demais e influenciar negativamente o desmepenho do modelo.\n",
    "<br>\n",
    "\n",
    "> Nota-se ainda que provavelmente trata-se de um data set de componenentes principais, ou seja, que passou por uma etapa de aplicação de Análise dos Componentes Principais ou alguma outra técnica de redução de dimensionalidade.\n",
    "<br>\n"
   ]
  },
  {
   "cell_type": "markdown",
   "metadata": {
    "application/vnd.databricks.v1+cell": {
     "cellMetadata": {
      "byteLimit": 2048000,
      "rowLimit": 10000
     },
     "inputWidgets": {},
     "nuid": "fef6fb54-a336-4ec8-9c0f-39e08ad03b84",
     "showTitle": false,
     "title": ""
    }
   },
   "source": [
    "## Exploração dos dados e busca por inconsistências:\n",
    "\n",
    "> Uma importante etapa no desenvolvimento de modelos de Machine Learning é a verificação da qualidade dos dados. Este tipo de algoritmo funciona sob a máxima do \"Garbage in, garbage out\", ou seja, se os dados utilizados como input para treino e teste do modelo forem ruins (sujos, incompletos, não normalizados etc), a qualidade das predições e sobretudo o poder de generalização do modelo também o serão.\n",
    "\n",
    "<br>\n",
    "\n",
    "> Deste modo, realizarei uma exploração inicial para detectar possíveis ajustes que devem ser aplicados aos dados antes de inserí-los no modelo."
   ]
  },
  {
   "cell_type": "code",
   "execution_count": 0,
   "metadata": {
    "application/vnd.databricks.v1+cell": {
     "cellMetadata": {
      "byteLimit": 2048000,
      "rowLimit": 10000
     },
     "inputWidgets": {},
     "nuid": "3f78dd94-d996-4ad0-8167-4ed9d8d07403",
     "showTitle": true,
     "title": "1º PASSO - LEITURA DOS DADOS COM O SPARK"
    }
   },
   "outputs": [],
   "source": [
    "\n",
    "base_path= \"dbfs:/FileStore/tables\"\n",
    "csv_dbfs_path = base_path+\"/creditcard_2023.csv\"\n",
    "\n",
    "\n",
    "#carregar csv\n",
    "dados = spark.read \\\n",
    "    .options(header=True) \\\n",
    "    .options(inferSchema=True) \\\n",
    "    .options(delimiter=\",\") \\\n",
    "    .csv(csv_dbfs_path)\n",
    "\n",
    "\n",
    "display(dados)\n"
   ]
  },
  {
   "cell_type": "code",
   "execution_count": 0,
   "metadata": {
    "application/vnd.databricks.v1+cell": {
     "cellMetadata": {
      "byteLimit": 2048000,
      "rowLimit": 10000
     },
     "inputWidgets": {},
     "nuid": "79f8637c-43fb-48bd-ab99-9b39df04ae7a",
     "showTitle": true,
     "title": "2º PASSO - LIMPEZA DOS DADOS"
    }
   },
   "outputs": [
    {
     "output_type": "display_data",
     "data": {
      "text/html": [
       "<style scoped>\n",
       "  .table-result-container {\n",
       "    max-height: 300px;\n",
       "    overflow: auto;\n",
       "  }\n",
       "  table, th, td {\n",
       "    border: 1px solid black;\n",
       "    border-collapse: collapse;\n",
       "  }\n",
       "  th, td {\n",
       "    padding: 5px;\n",
       "  }\n",
       "  th {\n",
       "    text-align: left;\n",
       "  }\n",
       "</style><div class='table-result-container'><table class='table-result'><thead style='background-color: white'><tr><th>id</th><th>V1</th><th>V2</th><th>V3</th><th>V4</th><th>V5</th><th>V6</th><th>V7</th><th>V8</th><th>V9</th><th>V10</th><th>V11</th><th>V12</th><th>V13</th><th>V14</th><th>V15</th><th>V16</th><th>V17</th><th>V18</th><th>V19</th><th>V20</th><th>V21</th><th>V22</th><th>V23</th><th>V24</th><th>V25</th><th>V26</th><th>V27</th><th>V28</th><th>Amount</th><th>Class</th></tr></thead><tbody><tr><td>0</td><td>0</td><td>0</td><td>0</td><td>0</td><td>0</td><td>0</td><td>0</td><td>0</td><td>0</td><td>0</td><td>0</td><td>0</td><td>0</td><td>0</td><td>0</td><td>0</td><td>0</td><td>0</td><td>0</td><td>0</td><td>0</td><td>0</td><td>0</td><td>0</td><td>0</td><td>0</td><td>0</td><td>0</td><td>0</td><td>0</td></tr></tbody></table></div>"
      ]
     },
     "metadata": {
      "application/vnd.databricks.v1+output": {
       "addedWidgets": {},
       "aggData": [],
       "aggError": "",
       "aggOverflow": false,
       "aggSchema": [],
       "aggSeriesLimitReached": false,
       "aggType": "",
       "arguments": {},
       "columnCustomDisplayInfos": {},
       "data": [
        [
         0,
         0,
         0,
         0,
         0,
         0,
         0,
         0,
         0,
         0,
         0,
         0,
         0,
         0,
         0,
         0,
         0,
         0,
         0,
         0,
         0,
         0,
         0,
         0,
         0,
         0,
         0,
         0,
         0,
         0,
         0
        ]
       ],
       "datasetInfos": [],
       "dbfsResultPath": null,
       "isJsonSchema": true,
       "metadata": {},
       "overflow": false,
       "plotOptions": {
        "customPlotOptions": {},
        "displayType": "table",
        "pivotAggregation": null,
        "pivotColumns": null,
        "xColumns": null,
        "yColumns": null
       },
       "removedWidgets": [],
       "schema": [
        {
         "metadata": "{}",
         "name": "id",
         "type": "\"long\""
        },
        {
         "metadata": "{}",
         "name": "V1",
         "type": "\"long\""
        },
        {
         "metadata": "{}",
         "name": "V2",
         "type": "\"long\""
        },
        {
         "metadata": "{}",
         "name": "V3",
         "type": "\"long\""
        },
        {
         "metadata": "{}",
         "name": "V4",
         "type": "\"long\""
        },
        {
         "metadata": "{}",
         "name": "V5",
         "type": "\"long\""
        },
        {
         "metadata": "{}",
         "name": "V6",
         "type": "\"long\""
        },
        {
         "metadata": "{}",
         "name": "V7",
         "type": "\"long\""
        },
        {
         "metadata": "{}",
         "name": "V8",
         "type": "\"long\""
        },
        {
         "metadata": "{}",
         "name": "V9",
         "type": "\"long\""
        },
        {
         "metadata": "{}",
         "name": "V10",
         "type": "\"long\""
        },
        {
         "metadata": "{}",
         "name": "V11",
         "type": "\"long\""
        },
        {
         "metadata": "{}",
         "name": "V12",
         "type": "\"long\""
        },
        {
         "metadata": "{}",
         "name": "V13",
         "type": "\"long\""
        },
        {
         "metadata": "{}",
         "name": "V14",
         "type": "\"long\""
        },
        {
         "metadata": "{}",
         "name": "V15",
         "type": "\"long\""
        },
        {
         "metadata": "{}",
         "name": "V16",
         "type": "\"long\""
        },
        {
         "metadata": "{}",
         "name": "V17",
         "type": "\"long\""
        },
        {
         "metadata": "{}",
         "name": "V18",
         "type": "\"long\""
        },
        {
         "metadata": "{}",
         "name": "V19",
         "type": "\"long\""
        },
        {
         "metadata": "{}",
         "name": "V20",
         "type": "\"long\""
        },
        {
         "metadata": "{}",
         "name": "V21",
         "type": "\"long\""
        },
        {
         "metadata": "{}",
         "name": "V22",
         "type": "\"long\""
        },
        {
         "metadata": "{}",
         "name": "V23",
         "type": "\"long\""
        },
        {
         "metadata": "{}",
         "name": "V24",
         "type": "\"long\""
        },
        {
         "metadata": "{}",
         "name": "V25",
         "type": "\"long\""
        },
        {
         "metadata": "{}",
         "name": "V26",
         "type": "\"long\""
        },
        {
         "metadata": "{}",
         "name": "V27",
         "type": "\"long\""
        },
        {
         "metadata": "{}",
         "name": "V28",
         "type": "\"long\""
        },
        {
         "metadata": "{}",
         "name": "Amount",
         "type": "\"long\""
        },
        {
         "metadata": "{}",
         "name": "Class",
         "type": "\"long\""
        }
       ],
       "type": "table"
      }
     },
     "output_type": "display_data"
    }
   ],
   "source": [
    "from pyspark.sql.functions import col, count, when, isnan\n",
    "\n",
    "# verificacao de nulos (optei por usar spark sql pela sintaxe simples)\n",
    "null_counts = dados.select([count(when(isnan(c) | col(c).isNull(), c)).alias(c) for c in dados.columns])\n",
    "display(null_counts)"
   ]
  },
  {
   "cell_type": "markdown",
   "metadata": {
    "application/vnd.databricks.v1+cell": {
     "cellMetadata": {
      "byteLimit": 2048000,
      "rowLimit": 10000
     },
     "inputWidgets": {},
     "nuid": "738aa410-1a4d-4abe-9d50-68e8fffb2c18",
     "showTitle": false,
     "title": ""
    }
   },
   "source": [
    "> Não existem entradas nulas no conjunto de dados, conforme tabela anterior."
   ]
  },
  {
   "cell_type": "code",
   "execution_count": 0,
   "metadata": {
    "application/vnd.databricks.v1+cell": {
     "cellMetadata": {
      "byteLimit": 2048000,
      "rowLimit": 10000
     },
     "inputWidgets": {},
     "nuid": "b7d2aa87-afe1-419d-bcfd-597dc93cd974",
     "showTitle": false,
     "title": ""
    }
   },
   "outputs": [
    {
     "output_type": "stream",
     "name": "stdout",
     "output_type": "stream",
     "text": [
      "Número de linhas duplicadas: 0\n"
     ]
    }
   ],
   "source": [
    "# existencia de duplicatas\n",
    "num_duplicated_rows = dados.count() - dados.dropDuplicates().count()\n",
    "print(\"Número de linhas duplicadas:\", num_duplicated_rows)\n"
   ]
  },
  {
   "cell_type": "markdown",
   "metadata": {
    "application/vnd.databricks.v1+cell": {
     "cellMetadata": {
      "byteLimit": 2048000,
      "rowLimit": 10000
     },
     "inputWidgets": {},
     "nuid": "09bddc5e-27ae-49db-9e6a-c7f7db2673ab",
     "showTitle": false,
     "title": ""
    }
   },
   "source": [
    "> Conforme resultado da consulta acima, é possível afirmar que não existem entradas duplicadas no data set."
   ]
  },
  {
   "cell_type": "code",
   "execution_count": 0,
   "metadata": {
    "application/vnd.databricks.v1+cell": {
     "cellMetadata": {
      "byteLimit": 2048000,
      "rowLimit": 10000
     },
     "inputWidgets": {},
     "nuid": "368a99ac-cb4c-44d6-a448-4208b32ff9bf",
     "showTitle": false,
     "title": ""
    }
   },
   "outputs": [
    {
     "output_type": "display_data",
     "data": {
      "text/html": [
       "<style scoped>\n",
       "  .table-result-container {\n",
       "    max-height: 300px;\n",
       "    overflow: auto;\n",
       "  }\n",
       "  table, th, td {\n",
       "    border: 1px solid black;\n",
       "    border-collapse: collapse;\n",
       "  }\n",
       "  th, td {\n",
       "    padding: 5px;\n",
       "  }\n",
       "  th {\n",
       "    text-align: left;\n",
       "  }\n",
       "</style><div class='table-result-container'><table class='table-result'><thead style='background-color: white'><tr><th>summary</th><th>id</th><th>V1</th><th>V2</th><th>V3</th><th>V4</th><th>V5</th><th>V6</th><th>V7</th><th>V8</th><th>V9</th><th>V10</th><th>V11</th><th>V12</th><th>V13</th><th>V14</th><th>V15</th><th>V16</th><th>V17</th><th>V18</th><th>V19</th><th>V20</th><th>V21</th><th>V22</th><th>V23</th><th>V24</th><th>V25</th><th>V26</th><th>V27</th><th>V28</th><th>Amount</th><th>Class</th></tr></thead><tbody><tr><td>count</td><td>568630</td><td>568630</td><td>568630</td><td>568630</td><td>568630</td><td>568630</td><td>568630</td><td>568630</td><td>568630</td><td>568630</td><td>568630</td><td>568630</td><td>568630</td><td>568630</td><td>568630</td><td>568630</td><td>568630</td><td>568630</td><td>568630</td><td>568630</td><td>568630</td><td>568630</td><td>568630</td><td>568630</td><td>568630</td><td>568630</td><td>568630</td><td>568630</td><td>568630</td><td>568630</td><td>568630</td></tr><tr><td>mean</td><td>284314.5</td><td>7.15913385705226E-15</td><td>-2.623096408750158E-16</td><td>3.3012627973538574E-15</td><td>-5.2461928175003156E-15</td><td>2.9749751952898134E-15</td><td>5.3229663709271495E-15</td><td>-1.1324099130457999E-15</td><td>-7.773322284466932E-16</td><td>-1.6890181753903456E-15</td><td>2.4567537096586844E-15</td><td>-9.558307401640819E-15</td><td>-2.3415933795184336E-15</td><td>-1.257166937364405E-15</td><td>5.131032487360065E-15</td><td>1.9673223065626185E-16</td><td>-4.875120642603952E-15</td><td>-2.879008253506271E-16</td><td>1.7402005443415682E-15</td><td>7.869289226250474E-16</td><td>6.813652866631507E-16</td><td>-1.012451235816372E-15</td><td>-2.8850061873677425E-16</td><td>-5.977940748599826E-17</td><td>-1.5386699665961293E-15</td><td>1.463495862199021E-16</td><td>-8.125201071006587E-16</td><td>1.996112389097681E-15</td><td>6.893625318117793E-16</td><td>12041.957634577779</td><td>0.5</td></tr><tr><td>stddev</td><td>164149.4861221523</td><td>1.0000008793075634</td><td>1.0000008793075639</td><td>1.000000879307564</td><td>1.0000008793075628</td><td>1.0000008793075632</td><td>1.0000008793075612</td><td>1.0000008793075619</td><td>1.000000879307565</td><td>1.0000008793075643</td><td>1.0000008793075608</td><td>1.0000008793075608</td><td>1.000000879307563</td><td>1.0000008793075659</td><td>1.0000008793075637</td><td>1.0000008793075645</td><td>1.0000008793075628</td><td>1.000000879307564</td><td>1.0000008793075594</td><td>1.0000008793075634</td><td>1.0000008793075614</td><td>1.000000879307566</td><td>1.000000879307565</td><td>1.0000008793075599</td><td>1.0000008793075628</td><td>1.0000008793075623</td><td>1.0000008793075619</td><td>1.000000879307561</td><td>1.0000008793075648</td><td>6919.6444494291845</td><td>0.5000004396537814</td></tr><tr><td>min</td><td>0</td><td>-3.495583516386668</td><td>-49.966571538690786</td><td>-3.1837603416948093</td><td>-4.951222429093022</td><td>-9.952785617741023</td><td>-21.11110792759147</td><td>-4.351839315074907</td><td>-10.756342305457341</td><td>-3.7519187380761445</td><td>-3.163275761885778</td><td>-5.954723293982779</td><td>-2.020399318328518</td><td>-5.955226700040189</td><td>-2.1074168038580363</td><td>-3.8618127653411154</td><td>-2.214512888665661</td><td>-2.484938386554947</td><td>-2.4219487219161313</td><td>-7.8049879480760405</td><td>-78.14783856605457</td><td>-19.382523087206284</td><td>-7.734798174224937</td><td>-30.295450154840687</td><td>-4.067967795102357</td><td>-13.612633178980909</td><td>-8.226969338778424</td><td>-10.498633077959608</td><td>-39.035243187439434</td><td>50.01</td><td>0</td></tr><tr><td>max</td><td>568629</td><td>2.2290461300435602</td><td>4.361865196721416</td><td>14.125833911866232</td><td>3.201535546069201</td><td>42.716890639914205</td><td>26.168402294404643</td><td>217.873038474627</td><td>5.958040147327273</td><td>20.270062075837107</td><td>31.72270910795672</td><td>2.5135727491214537</td><td>17.913556111364983</td><td>7.187485954748435</td><td>19.169544406102986</td><td>14.532202180325108</td><td>46.652906044046794</td><td>6.994124024684426</td><td>6.783716009168727</td><td>3.8316716979071006</td><td>29.872812160323736</td><td>8.087080028016498</td><td>12.63251122579015</td><td>31.707626578253514</td><td>12.965638661146754</td><td>14.621509105774306</td><td>5.623285408193404</td><td>113.23109281324442</td><td>77.25593674214326</td><td>24039.93</td><td>1</td></tr></tbody></table></div>"
      ]
     },
     "metadata": {
      "application/vnd.databricks.v1+output": {
       "addedWidgets": {},
       "aggData": [],
       "aggError": "",
       "aggOverflow": false,
       "aggSchema": [],
       "aggSeriesLimitReached": false,
       "aggType": "",
       "arguments": {},
       "columnCustomDisplayInfos": {},
       "data": [
        [
         "count",
         "568630",
         "568630",
         "568630",
         "568630",
         "568630",
         "568630",
         "568630",
         "568630",
         "568630",
         "568630",
         "568630",
         "568630",
         "568630",
         "568630",
         "568630",
         "568630",
         "568630",
         "568630",
         "568630",
         "568630",
         "568630",
         "568630",
         "568630",
         "568630",
         "568630",
         "568630",
         "568630",
         "568630",
         "568630",
         "568630",
         "568630"
        ],
        [
         "mean",
         "284314.5",
         "7.15913385705226E-15",
         "-2.623096408750158E-16",
         "3.3012627973538574E-15",
         "-5.2461928175003156E-15",
         "2.9749751952898134E-15",
         "5.3229663709271495E-15",
         "-1.1324099130457999E-15",
         "-7.773322284466932E-16",
         "-1.6890181753903456E-15",
         "2.4567537096586844E-15",
         "-9.558307401640819E-15",
         "-2.3415933795184336E-15",
         "-1.257166937364405E-15",
         "5.131032487360065E-15",
         "1.9673223065626185E-16",
         "-4.875120642603952E-15",
         "-2.879008253506271E-16",
         "1.7402005443415682E-15",
         "7.869289226250474E-16",
         "6.813652866631507E-16",
         "-1.012451235816372E-15",
         "-2.8850061873677425E-16",
         "-5.977940748599826E-17",
         "-1.5386699665961293E-15",
         "1.463495862199021E-16",
         "-8.125201071006587E-16",
         "1.996112389097681E-15",
         "6.893625318117793E-16",
         "12041.957634577779",
         "0.5"
        ],
        [
         "stddev",
         "164149.4861221523",
         "1.0000008793075634",
         "1.0000008793075639",
         "1.000000879307564",
         "1.0000008793075628",
         "1.0000008793075632",
         "1.0000008793075612",
         "1.0000008793075619",
         "1.000000879307565",
         "1.0000008793075643",
         "1.0000008793075608",
         "1.0000008793075608",
         "1.000000879307563",
         "1.0000008793075659",
         "1.0000008793075637",
         "1.0000008793075645",
         "1.0000008793075628",
         "1.000000879307564",
         "1.0000008793075594",
         "1.0000008793075634",
         "1.0000008793075614",
         "1.000000879307566",
         "1.000000879307565",
         "1.0000008793075599",
         "1.0000008793075628",
         "1.0000008793075623",
         "1.0000008793075619",
         "1.000000879307561",
         "1.0000008793075648",
         "6919.6444494291845",
         "0.5000004396537814"
        ],
        [
         "min",
         "0",
         "-3.495583516386668",
         "-49.966571538690786",
         "-3.1837603416948093",
         "-4.951222429093022",
         "-9.952785617741023",
         "-21.11110792759147",
         "-4.351839315074907",
         "-10.756342305457341",
         "-3.7519187380761445",
         "-3.163275761885778",
         "-5.954723293982779",
         "-2.020399318328518",
         "-5.955226700040189",
         "-2.1074168038580363",
         "-3.8618127653411154",
         "-2.214512888665661",
         "-2.484938386554947",
         "-2.4219487219161313",
         "-7.8049879480760405",
         "-78.14783856605457",
         "-19.382523087206284",
         "-7.734798174224937",
         "-30.295450154840687",
         "-4.067967795102357",
         "-13.612633178980909",
         "-8.226969338778424",
         "-10.498633077959608",
         "-39.035243187439434",
         "50.01",
         "0"
        ],
        [
         "max",
         "568629",
         "2.2290461300435602",
         "4.361865196721416",
         "14.125833911866232",
         "3.201535546069201",
         "42.716890639914205",
         "26.168402294404643",
         "217.873038474627",
         "5.958040147327273",
         "20.270062075837107",
         "31.72270910795672",
         "2.5135727491214537",
         "17.913556111364983",
         "7.187485954748435",
         "19.169544406102986",
         "14.532202180325108",
         "46.652906044046794",
         "6.994124024684426",
         "6.783716009168727",
         "3.8316716979071006",
         "29.872812160323736",
         "8.087080028016498",
         "12.63251122579015",
         "31.707626578253514",
         "12.965638661146754",
         "14.621509105774306",
         "5.623285408193404",
         "113.23109281324442",
         "77.25593674214326",
         "24039.93",
         "1"
        ]
       ],
       "datasetInfos": [],
       "dbfsResultPath": null,
       "isJsonSchema": true,
       "metadata": {},
       "overflow": false,
       "plotOptions": {
        "customPlotOptions": {},
        "displayType": "table",
        "pivotAggregation": null,
        "pivotColumns": null,
        "xColumns": null,
        "yColumns": null
       },
       "removedWidgets": [],
       "schema": [
        {
         "metadata": "{}",
         "name": "summary",
         "type": "\"string\""
        },
        {
         "metadata": "{}",
         "name": "id",
         "type": "\"string\""
        },
        {
         "metadata": "{}",
         "name": "V1",
         "type": "\"string\""
        },
        {
         "metadata": "{}",
         "name": "V2",
         "type": "\"string\""
        },
        {
         "metadata": "{}",
         "name": "V3",
         "type": "\"string\""
        },
        {
         "metadata": "{}",
         "name": "V4",
         "type": "\"string\""
        },
        {
         "metadata": "{}",
         "name": "V5",
         "type": "\"string\""
        },
        {
         "metadata": "{}",
         "name": "V6",
         "type": "\"string\""
        },
        {
         "metadata": "{}",
         "name": "V7",
         "type": "\"string\""
        },
        {
         "metadata": "{}",
         "name": "V8",
         "type": "\"string\""
        },
        {
         "metadata": "{}",
         "name": "V9",
         "type": "\"string\""
        },
        {
         "metadata": "{}",
         "name": "V10",
         "type": "\"string\""
        },
        {
         "metadata": "{}",
         "name": "V11",
         "type": "\"string\""
        },
        {
         "metadata": "{}",
         "name": "V12",
         "type": "\"string\""
        },
        {
         "metadata": "{}",
         "name": "V13",
         "type": "\"string\""
        },
        {
         "metadata": "{}",
         "name": "V14",
         "type": "\"string\""
        },
        {
         "metadata": "{}",
         "name": "V15",
         "type": "\"string\""
        },
        {
         "metadata": "{}",
         "name": "V16",
         "type": "\"string\""
        },
        {
         "metadata": "{}",
         "name": "V17",
         "type": "\"string\""
        },
        {
         "metadata": "{}",
         "name": "V18",
         "type": "\"string\""
        },
        {
         "metadata": "{}",
         "name": "V19",
         "type": "\"string\""
        },
        {
         "metadata": "{}",
         "name": "V20",
         "type": "\"string\""
        },
        {
         "metadata": "{}",
         "name": "V21",
         "type": "\"string\""
        },
        {
         "metadata": "{}",
         "name": "V22",
         "type": "\"string\""
        },
        {
         "metadata": "{}",
         "name": "V23",
         "type": "\"string\""
        },
        {
         "metadata": "{}",
         "name": "V24",
         "type": "\"string\""
        },
        {
         "metadata": "{}",
         "name": "V25",
         "type": "\"string\""
        },
        {
         "metadata": "{}",
         "name": "V26",
         "type": "\"string\""
        },
        {
         "metadata": "{}",
         "name": "V27",
         "type": "\"string\""
        },
        {
         "metadata": "{}",
         "name": "V28",
         "type": "\"string\""
        },
        {
         "metadata": "{}",
         "name": "Amount",
         "type": "\"string\""
        },
        {
         "metadata": "{}",
         "name": "Class",
         "type": "\"string\""
        }
       ],
       "type": "table"
      }
     },
     "output_type": "display_data"
    }
   ],
   "source": [
    "# estatisticas descritivas sobre o conjunto de dados\n",
    "dados_descriptive_stats = dados.describe()\n",
    "display(dados_descriptive_stats)"
   ]
  },
  {
   "cell_type": "code",
   "execution_count": 0,
   "metadata": {
    "application/vnd.databricks.v1+cell": {
     "cellMetadata": {
      "byteLimit": 2048000,
      "implicitDf": true,
      "rowLimit": 10000
     },
     "inputWidgets": {},
     "nuid": "4356e981-b469-4455-aa2b-888625b41774",
     "showTitle": true,
     "title": "3º PASSO - VERIFICAÇÃO DO BALANCEAMENTO DO TARGET"
    }
   },
   "outputs": [
    {
     "output_type": "display_data",
     "data": {
      "application/vnd.databricks.v1+bamboolib_hint": "{\"pd.DataFrames\": [], \"version\": \"0.0.1\"}",
      "text/plain": []
     },
     "metadata": {},
     "output_type": "display_data"
    },
    {
     "output_type": "stream",
     "name": "stdout",
     "output_type": "stream",
     "text": [
      "+-----+------+\n|Class| count|\n+-----+------+\n|    1|284315|\n|    0|284315|\n+-----+------+\n\n"
     ]
    },
    {
     "output_type": "display_data",
     "data": {
      "image/png": "[encoded data removed]"
     },
     "metadata": {
      "application/vnd.databricks.v1+output": {
       "addedWidgets": {},
       "arguments": {},
       "data": "data:image/png;base64,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\n",
       "datasetInfos": [],
       "metadata": {},
       "removedWidgets": [],
       "type": "image"
      }
     },
     "output_type": "display_data"
    }
   ],
   "source": [
    "\n",
    "# Análise do balanceamento do Target\n",
    "import pandas as pd\n",
    "import seaborn as sns\n",
    "import matplotlib.pyplot as plt\n",
    "\n",
    "dados.groupBy('Class').count().show()\n",
    "pdf = dados.toPandas()\n",
    "\n",
    "\n",
    "sns.countplot(x='Class', data=pdf)\n",
    "plt.show()"
   ]
  },
  {
   "cell_type": "markdown",
   "metadata": {
    "application/vnd.databricks.v1+cell": {
     "cellMetadata": {
      "byteLimit": 2048000,
      "rowLimit": 10000
     },
     "inputWidgets": {},
     "nuid": "8cd3f97a-ce54-4044-a741-3a9e276e72eb",
     "showTitle": false,
     "title": ""
    }
   },
   "source": [
    "> A classe alvo binária do conjunto de dados encontra-se perfeitamente balanceada. Portanto, não será necessário o uso de técnicas de balanceamento."
   ]
  },
  {
   "cell_type": "markdown",
   "metadata": {
    "application/vnd.databricks.v1+cell": {
     "cellMetadata": {
      "byteLimit": 2048000,
      "rowLimit": 10000
     },
     "inputWidgets": {},
     "nuid": "09cd0227-7db1-4f4a-b9a2-74190cff61c3",
     "showTitle": false,
     "title": ""
    }
   },
   "source": [
    "#### Exclusão de colunas desnecessárias \n",
    "<br>\n",
    "\n",
    "> A variável id é responsável por identificar cada uma das transações nos dados mas não possui qualquer serventia prática no contexto de aplicação de modelos para predição de \"Class\", podendo inclusive causar confusões ao modelo. Desta forma, optarei pela exclusão de ID.\n",
    "\n",
    "<br>\n",
    "\n",
    "> Por fim, a variável \"Amount\" será normalizada mais adiante quando da aplicação da Regressão Logística."
   ]
  },
  {
   "cell_type": "code",
   "execution_count": 0,
   "metadata": {
    "application/vnd.databricks.v1+cell": {
     "cellMetadata": {
      "byteLimit": 2048000,
      "rowLimit": 10000
     },
     "inputWidgets": {},
     "nuid": "fce68e39-1d5b-42ce-8de4-fbca92d798b5",
     "showTitle": false,
     "title": ""
    }
   },
   "outputs": [
    {
     "output_type": "stream",
     "name": "stdout",
     "output_type": "stream",
     "text": [
      "root\n |-- id: integer (nullable = true)\n |-- V1: double (nullable = true)\n |-- V2: double (nullable = true)\n |-- V3: double (nullable = true)\n |-- V4: double (nullable = true)\n |-- V5: double (nullable = true)\n |-- V6: double (nullable = true)\n |-- V7: double (nullable = true)\n |-- V8: double (nullable = true)\n |-- V9: double (nullable = true)\n |-- V10: double (nullable = true)\n |-- V11: double (nullable = true)\n |-- V12: double (nullable = true)\n |-- V13: double (nullable = true)\n |-- V14: double (nullable = true)\n |-- V15: double (nullable = true)\n |-- V16: double (nullable = true)\n |-- V17: double (nullable = true)\n |-- V18: double (nullable = true)\n |-- V19: double (nullable = true)\n |-- V20: double (nullable = true)\n |-- V21: double (nullable = true)\n |-- V22: double (nullable = true)\n |-- V23: double (nullable = true)\n |-- V24: double (nullable = true)\n |-- V25: double (nullable = true)\n |-- V26: double (nullable = true)\n |-- V27: double (nullable = true)\n |-- V28: double (nullable = true)\n |-- Amount: double (nullable = true)\n |-- Class: integer (nullable = true)\n\n"
     ]
    }
   ],
   "source": [
    "dados.printSchema()"
   ]
  },
  {
   "cell_type": "code",
   "execution_count": 0,
   "metadata": {
    "application/vnd.databricks.v1+cell": {
     "cellMetadata": {
      "byteLimit": 2048000,
      "rowLimit": 10000
     },
     "inputWidgets": {},
     "nuid": "2bd3fd88-ab23-43a5-b2c9-14e5d3223bac",
     "showTitle": true,
     "title": "6º PASSO - EXCLUIR A COLUNA ID"
    }
   },
   "outputs": [],
   "source": [
    "dados = dados.drop('id')"
   ]
  },
  {
   "cell_type": "markdown",
   "metadata": {
    "application/vnd.databricks.v1+cell": {
     "cellMetadata": {
      "byteLimit": 2048000,
      "rowLimit": 10000
     },
     "inputWidgets": {},
     "nuid": "32026675-802d-46a1-bcfa-d8882ef08154",
     "showTitle": false,
     "title": ""
    }
   },
   "source": [
    "## ETAPA DE DESENVOLVIMENTO, APLICAÇÃO E AVALIAÇÃO DOS MODELOS DE MACHINE LEARNING COM USO DO PySparkML:\n",
    "\n",
    "> "
   ]
  },
  {
   "cell_type": "markdown",
   "metadata": {
    "application/vnd.databricks.v1+cell": {
     "cellMetadata": {
      "byteLimit": 2048000,
      "rowLimit": 10000
     },
     "inputWidgets": {},
     "nuid": "4ac8436e-b13a-4092-89f7-8c725237a5b9",
     "showTitle": false,
     "title": ""
    }
   },
   "source": [
    "> Como primeira medida antes da modelagem, farei uma cópia do data set que foi limpo e organizado nos passos anteriores, a qual chamarei df_model e será utilizada com input para treino e teste do modelo. \n",
    "\n",
    "<br>\n",
    "\n",
    "> Ademais, realizarei o split dos dados em Treino e Teste antes de aplicar qualquer transformação às colunas que serão utilizadas, como por exemplo o StandardScaler que deve se aplicado à coluna Amount.\n",
    "\n",
    "<br>\n",
    "\n",
    "> Farei desta forma para evitar qualquer tipo de vazamento de dados (Data Leakage) que possa influenciar no resultado final do modelo e levar a um possível overfitting, o que prejudicaria a capacidade de generalização do modelo."
   ]
  },
  {
   "cell_type": "code",
   "execution_count": 0,
   "metadata": {
    "application/vnd.databricks.v1+cell": {
     "cellMetadata": {
      "byteLimit": 2048000,
      "rowLimit": 10000
     },
     "inputWidgets": {},
     "nuid": "aa4f639d-5a2c-4be8-82a2-964065d9691b",
     "showTitle": true,
     "title": "1º PASSO - REALIZAR O SPLIT DOS DADOS"
    }
   },
   "outputs": [],
   "source": [
    "from pyspark.sql import SparkSession\n",
    "from pyspark.ml import PipelineModel\n",
    "from pyspark.ml import Pipeline\n",
    "from pyspark.ml.feature import StandardScaler, VectorAssembler\n",
    "from pyspark.ml.classification import RandomForestClassifier\n",
    "from pyspark.ml.evaluation import BinaryClassificationEvaluator\n",
    "\n",
    "df_model = dados\n",
    "\n",
    "# split dos dados\n",
    "train_data, test_data = df_model.randomSplit([0.8, 0.2], seed=12345)\n"
   ]
  },
  {
   "cell_type": "markdown",
   "metadata": {
    "application/vnd.databricks.v1+cell": {
     "cellMetadata": {
      "byteLimit": 2048000,
      "rowLimit": 10000
     },
     "inputWidgets": {},
     "nuid": "96983673-0655-4c26-a459-934e6e377874",
     "showTitle": false,
     "title": ""
    }
   },
   "source": [
    "> Um adendo aqui diz respeito à seguinte questão: A coluna Amount será padronizada via StandardScaler para que tenha média = 0 e Desvio padrão = 1, assim como as demais variáveis explicativas. Apesar de não haver necessidade de realizar este procedimento neste momento por estarmos a aplicar em primeira instância um modelo em árvore, que naturalemente não possui sensibilidade à escala das variáveis, isto não faria qualquer diferenca neste contexto.\n",
    "\n",
    "<br>\n",
    "\n",
    "> Entretanto, testarei mais adiante a aplicação de outros modelos baseados em gradiente, como é o caso da Regressão Logística, e para tanto será necessário que as variáveis estejam padronizadas."
   ]
  },
  {
   "cell_type": "code",
   "execution_count": 0,
   "metadata": {
    "application/vnd.databricks.v1+cell": {
     "cellMetadata": {
      "byteLimit": 2048000,
      "rowLimit": 10000
     },
     "inputWidgets": {},
     "nuid": "819ad2b3-d18d-430f-a2c0-d65000440cc3",
     "showTitle": true,
     "title": "2º PASSO - DEMAIS TRANSFORMAÇÕES, CRIAÇÃO DO PIPE E MODELAGEM"
    }
   },
   "outputs": [
    {
     "output_type": "stream",
     "name": "stdout",
     "output_type": "stream",
     "text": [
      "ROC AUC: 0.9893607598167644\n"
     ]
    }
   ],
   "source": [
    "## list compreheension para guardar todas as vars explicativas e posteriormente transforma-las em vector p/ modelo\n",
    "feature_columns = [col for col in df_model.columns if col != \"Class\"]\n",
    "\n",
    "# 1 - transformar a coluna 'Amount' em um vector e passar o standardscaler\n",
    "amount_assembler = VectorAssembler(inputCols=[\"Amount\"], outputCol=\"amount_vec\")\n",
    "scaler = StandardScaler(inputCol=\"amount_vec\", outputCol=\"scaled_amount\", withStd=True, withMean=True)\n",
    "\n",
    "# VectorAssembler para todas as vars explicativas do modelo\n",
    "final_assembler = VectorAssembler(inputCols=[\"scaled_amount\"] + feature_columns, outputCol=\"features\")\n",
    "\n",
    "# Configurar o RF\n",
    "rf = RandomForestClassifier(featuresCol=\"features\", \n",
    "                            labelCol=\"Class\", \n",
    "                            numTrees=100,\n",
    "                            maxDepth=5,\n",
    "                            impurity=\"gini\",\n",
    "                            seed=12345)\n",
    "\n",
    "# Criar o Pipeline\n",
    "pipeline = Pipeline(stages=[amount_assembler, scaler, final_assembler, rf])\n",
    "pipeline_model = pipeline.fit(train_data)\n",
    "\n",
    "#fazer preds\n",
    "predictions = pipeline_model.transform(test_data)\n",
    "\n",
    "#avaliar \n",
    "evaluator = BinaryClassificationEvaluator(labelCol=\"Class\", rawPredictionCol=\"rawPrediction\", metricName=\"areaUnderROC\")\n",
    "roc_auc = evaluator.evaluate(predictions)\n",
    "\n",
    "print(f\"ROC AUC: {roc_auc}\")\n"
   ]
  },
  {
   "cell_type": "markdown",
   "metadata": {
    "application/vnd.databricks.v1+cell": {
     "cellMetadata": {
      "byteLimit": 2048000,
      "rowLimit": 10000
     },
     "inputWidgets": {},
     "nuid": "f3981f5d-1452-4a6c-898c-6770cbbad2a2",
     "showTitle": false,
     "title": ""
    }
   },
   "source": [
    "> O ROC e Accuracy estão muito altos. Com métricas de acerto acima dos 90%, como é o caso, é necessário investigar se não há overfitting e o quão capaz de generalizar o modelo é.\n",
    "\n",
    "<br>\n",
    "\n",
    "> Apesar de o random forest ser um modelo que tradicionalmente evita o overfitting, é necessário aplicar a validação cruzada para saber se as métricas após a validação cruzada ficarão ao menos próximas das que foram encontradas. "
   ]
  },
  {
   "cell_type": "markdown",
   "metadata": {
    "application/vnd.databricks.v1+cell": {
     "cellMetadata": {
      "byteLimit": 2048000,
      "rowLimit": 10000
     },
     "inputWidgets": {},
     "nuid": "ff9293d4-b3ec-44f2-9ba8-19fee12b8e37",
     "showTitle": false,
     "title": ""
    }
   },
   "source": [
    "### Aplicação da Validação Cruzada com k_folds = 3 ao modelo Random Forests:"
   ]
  },
  {
   "cell_type": "code",
   "execution_count": 0,
   "metadata": {
    "application/vnd.databricks.v1+cell": {
     "cellMetadata": {
      "byteLimit": 2048000,
      "rowLimit": 10000
     },
     "inputWidgets": {},
     "nuid": "08242a2c-0ecf-474f-86eb-2788006d6f42",
     "showTitle": true,
     "title": "3º PASSO - APLICAÇÃO DA VALIDAÇÃO CRUZADA PARA DETECTAR POSSIVEL OVERFITTING"
    }
   },
   "outputs": [
    {
     "output_type": "stream",
     "name": "stdout",
     "output_type": "stream",
     "text": [
      "ROC AUC: 0.9893598815862853\n"
     ]
    }
   ],
   "source": [
    "from pyspark.ml.tuning import CrossValidator\n",
    "\n",
    "# add o cv sem griid search momentaneamente\n",
    "crossval = CrossValidator(estimator=pipeline,\n",
    "                          estimatorParamMaps=[{}],  # GRID SEARCH só será utilizado na proxima etapa de RL\n",
    "                          evaluator=evaluator,\n",
    "                          numFolds=3)\n",
    "\n",
    "#fit do modelo ao CV\n",
    "cv_model = crossval.fit(train_data)\n",
    "\n",
    "# previsoes apos add da valid. cruzada\n",
    "predictions2 = cv_model.transform(test_data)\n",
    "\n",
    "#avaliar o modelo\n",
    "roc_auc_rf_cv = evaluator.evaluate(predictions2)\n",
    "print(f\"ROC AUC: {roc_auc_rf_cv}\")"
   ]
  },
  {
   "cell_type": "markdown",
   "metadata": {
    "application/vnd.databricks.v1+cell": {
     "cellMetadata": {
      "byteLimit": 2048000,
      "rowLimit": 10000
     },
     "inputWidgets": {},
     "nuid": "d0f92fa6-a2da-41fd-9348-06427b50300c",
     "showTitle": false,
     "title": ""
    }
   },
   "source": [
    "> Nota-se que após a aplicação da validação cruzada o modelo apresentou um desempenho ainda melhor, demonstrando que é um bom modelo e tem uma capacidade sofisticada de prever a variável-alvo.\n",
    "\n",
    "> Por conseguinte, ainda que o random Forest tenha se mostrado como uma opção confiável e com alta capacidade preditiva, aplicarei a seguir um modelo de Regressão Logística aos dados, com vistas a perceber se o desempenho será ainda melhor que o de seu predecessor."
   ]
  },
  {
   "cell_type": "code",
   "execution_count": 0,
   "metadata": {
    "application/vnd.databricks.v1+cell": {
     "cellMetadata": {
      "byteLimit": 2048000,
      "rowLimit": 10000
     },
     "inputWidgets": {},
     "nuid": "9d5bfb09-6815-4098-a4b6-e6e045b87511",
     "showTitle": true,
     "title": "*Modo como as previsões são feitas:"
    }
   },
   "outputs": [
    {
     "output_type": "stream",
     "name": "stdout",
     "output_type": "stream",
     "text": [
      "+-----+----------+--------------------+\n|Class|prediction|         probability|\n+-----+----------+--------------------+\n|    0|       1.0|[0.00220516195352...|\n|    0|       0.0|[0.71049203486937...|\n|    0|       0.0|[0.75494453216849...|\n|    0|       0.0|[0.62938142528624...|\n|    0|       0.0|[0.79084623392165...|\n|    1|       1.0|[0.00220516195352...|\n|    1|       1.0|[0.00220516195352...|\n|    0|       0.0|[0.85104404466700...|\n|    0|       0.0|[0.88456024073073...|\n|    0|       1.0|[0.00220516195352...|\n|    0|       0.0|[0.83219214426668...|\n|    0|       0.0|[0.76651675421502...|\n|    0|       1.0|[0.00220516195352...|\n|    0|       0.0|[0.77758038362125...|\n|    0|       0.0|[0.77201776451890...|\n|    0|       0.0|[0.75584884335784...|\n|    0|       0.0|[0.81965853428415...|\n|    0|       0.0|[0.79867329071157...|\n|    1|       1.0|[0.00221767990677...|\n|    0|       0.0|[0.77475731186917...|\n+-----+----------+--------------------+\nonly showing top 20 rows\n\n"
     ]
    }
   ],
   "source": [
    "#output do modo como as predicoes sao feitas pelo modelo\n",
    "predictions.select(\"Class\", \"prediction\", \"probability\").show()"
   ]
  },
  {
   "cell_type": "code",
   "execution_count": 0,
   "metadata": {
    "application/vnd.databricks.v1+cell": {
     "cellMetadata": {
      "byteLimit": 2048000,
      "rowLimit": 10000
     },
     "inputWidgets": {},
     "nuid": "b38bfde6-eb83-43d2-88e7-5508a39ca679",
     "showTitle": true,
     "title": "4º PASSO - REGRESSÃO LOGÍSTICA"
    }
   },
   "outputs": [
    {
     "output_type": "stream",
     "name": "stdout",
     "output_type": "stream",
     "text": [
      "ROC AUC: 0.9920507354480571\n"
     ]
    }
   ],
   "source": [
    "from pyspark.ml.classification import LogisticRegression\n",
    "from pyspark.ml.tuning import ParamGridBuilder\n",
    "\n",
    "# instanciar a Regressão Logística\n",
    "lr = LogisticRegression(featuresCol=\"features\", \n",
    "                        labelCol=\"Class\",\n",
    "                        maxIter=100)\n",
    "\n",
    "# pipeline \n",
    "pipeline_rl = Pipeline(stages=[amount_assembler, scaler, final_assembler, lr])\n",
    "\n",
    "# add o Grid Search em busca dos melhores hiperparametros\n",
    "paramGrid = ParamGridBuilder() \\\n",
    "    .addGrid(lr.regParam, [0.01, 0.1, 1.0]) \\\n",
    "    .addGrid(lr.elasticNetParam, [0.0, 0.5, 1.0]) \\\n",
    "    .build()\n",
    "\n",
    "# aplicar cv tambem à Reg. Logistica p/ evitar overfitting, ja que RL é mais sensivel ao overfitting que o Random Forest.\n",
    "crossval_rl = CrossValidator(estimator=pipeline_rl,\n",
    "                          estimatorParamMaps=paramGrid,\n",
    "                          evaluator=evaluator,\n",
    "                          numFolds=3)\n",
    "\n",
    "\n",
    "# modelo de RL + CV\n",
    "cv_model_rl = crossval_rl.fit(train_data)\n",
    "predictions3 = cv_model_rl.transform(test_data)\n",
    "\n",
    "# avaliar usando mesma métrica dos anteriores\n",
    "roc_auc_rl = evaluator.evaluate(predictions3)\n",
    "print(f\"ROC AUC: {roc_auc_rl}\")\n"
   ]
  },
  {
   "cell_type": "markdown",
   "metadata": {
    "application/vnd.databricks.v1+cell": {
     "cellMetadata": {
      "byteLimit": 2048000,
      "rowLimit": 10000
     },
     "inputWidgets": {},
     "nuid": "b5dc6411-187a-494f-bf7b-fb62dee75004",
     "showTitle": false,
     "title": ""
    }
   },
   "source": [
    "> Há aqui uma acurácia ainda mais alta que no modelo anterior, o que comprova que provavelmente a Regressão Logística é o modelo que melhor se aplica aos dados ora propostos.\n",
    "\n",
    "<br>\n",
    "\n",
    "> Há entretanto um lado negativo que diz respeito à performance: Mesmo Trabalhando em spark, o modelo levou aproximadamente 16 minutos para ser treinado, ante os 10 minutos do random forest + validação cruzada. Em um ambiente de produção, a depender da tarefa e dos objetivos, pode ser que seja difícil operacionalizar o uso deste modelo, o que não significa dizer que ele é ruim.\n",
    "\n",
    "<br>\n",
    "\n",
    "> Testarei a seguir uma árvore de decisão, vez que esta é mais simples que os demais e, aparentemente, tende a ser mais rápida. O objetivo é saber se haverá queda no tempo de treinemnto do modelo e sobretudo na métrica de avaliação."
   ]
  },
  {
   "cell_type": "markdown",
   "metadata": {
    "application/vnd.databricks.v1+cell": {
     "cellMetadata": {
      "byteLimit": 2048000,
      "rowLimit": 10000
     },
     "inputWidgets": {},
     "nuid": "b4bea3bc-df60-4139-b4d0-ca9890dac16b",
     "showTitle": false,
     "title": ""
    }
   },
   "source": [
    "### Modelo 3: Decision Tree para Classificação."
   ]
  },
  {
   "cell_type": "code",
   "execution_count": 0,
   "metadata": {
    "application/vnd.databricks.v1+cell": {
     "cellMetadata": {
      "byteLimit": 2048000,
      "rowLimit": 10000
     },
     "inputWidgets": {},
     "nuid": "d81ad1a4-e8ab-460d-bde3-a4009ef437c8",
     "showTitle": true,
     "title": "EXTRA - DECISION TREE"
    }
   },
   "outputs": [
    {
     "output_type": "stream",
     "name": "stdout",
     "output_type": "stream",
     "text": [
      "ROC AUC (Decision Tree): 0.9993357194556867\n"
     ]
    }
   ],
   "source": [
    "from pyspark.ml.classification import DecisionTreeClassifier\n",
    "\n",
    "# instanciar o modelo dt\n",
    "dt = DecisionTreeClassifier(featuresCol=\"features\", \n",
    "                            labelCol=\"Class\")\n",
    "\n",
    "# criar pipe proprio\n",
    "pipeline_dt = Pipeline(stages=[amount_assembler, scaler, final_assembler, dt])\n",
    "\n",
    "# grid serach para maxbins e maxdepth\n",
    "paramGrid = ParamGridBuilder() \\\n",
    "    .addGrid(dt.maxDepth, [5, 10, 15]) \\\n",
    "    .addGrid(dt.maxBins, [20, 30, 40]) \\\n",
    "    .build()\n",
    "\n",
    "# evaluator\n",
    "evaluator = BinaryClassificationEvaluator(labelCol=\"Class\", rawPredictionCol=\"rawPrediction\", metricName=\"areaUnderROC\")\n",
    "\n",
    "# configurar cv para dt\n",
    "crossval_dt = CrossValidator(estimator=pipeline_dt,\n",
    "                             estimatorParamMaps=paramGrid,\n",
    "                             evaluator=evaluator,\n",
    "                             numFolds=3)\n",
    "\n",
    "# modelo + cv\n",
    "cv_model_dt = crossval_dt.fit(train_data)\n",
    "\n",
    "predictions_dt = cv_model_dt.transform(test_data)\n",
    "\n",
    "# avaliar\n",
    "roc_auc_dt = evaluator.evaluate(predictions_dt)\n",
    "print(f\"ROC AUC (Decision Tree): {roc_auc_dt}\")"
   ]
  },
  {
   "cell_type": "markdown",
   "metadata": {
    "application/vnd.databricks.v1+cell": {
     "cellMetadata": {
      "byteLimit": 2048000,
      "rowLimit": 10000
     },
     "inputWidgets": {},
     "nuid": "ed5ba3f7-8ea1-48eb-8ed1-ffd31b300aea",
     "showTitle": false,
     "title": ""
    }
   },
   "source": [
    "> Conforme demonstrado, o tempo de execução para a árvore de decisão também foi relativamente alto. Entretanto, o modelo mostrou-se ainda mais eficiente que os demais e apresentou um ROC de 0.999.\n",
    "\n",
    "<br>\n",
    "\n",
    "> Provavelmente existe pouco ruído/variância nos dados e por conta disso os modelos tem conseguido captar quase que na totalidade as nuances das classes.\n",
    "\n",
    "<br>\n",
    "\n",
    "> Quanto ao tempo de execução, é natural que seja mais alto por conta das etapas de validação cruzada e grid search, onde é necessário realizar uma série de iterações nos dados, o que onera sobremaneira o cluster spark criado."
   ]
  },
  {
   "cell_type": "markdown",
   "metadata": {
    "application/vnd.databricks.v1+cell": {
     "cellMetadata": {
      "byteLimit": 2048000,
      "rowLimit": 10000
     },
     "inputWidgets": {},
     "nuid": "a6802f1c-f0df-468a-a938-c8c65bbfb28c",
     "showTitle": false,
     "title": ""
    }
   },
   "source": [
    "## Visualização agrupada do desempenho dos modelos:\n",
    "\n",
    "> Neste ponto fica demonstrada a comparação entre as métricas de avaliação dos modelos de modo a perceber qual apresentou o valor mais elevado de ROC, a saber:"
   ]
  },
  {
   "cell_type": "code",
   "execution_count": 0,
   "metadata": {
    "application/vnd.databricks.v1+cell": {
     "cellMetadata": {
      "byteLimit": 2048000,
      "rowLimit": 10000
     },
     "inputWidgets": {},
     "nuid": "78c0ef0f-ed82-49f6-8cd8-fee9b3e9728b",
     "showTitle": false,
     "title": ""
    }
   },
   "outputs": [
    {
     "output_type": "display_data",
     "data": {
      "image/png": "[encoded data removed]"
     },
     "metadata": {
      "application/vnd.databricks.v1+output": {
       "addedWidgets": {},
       "arguments": {},
       "data": "data:image/png;base64,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\n",
       "datasetInfos": [],
       "metadata": {},
       "removedWidgets": [],
       "type": "image"
      }
     },
     "output_type": "display_data"
    }
   ],
   "source": [
    "import matplotlib.pyplot as plt\n",
    "\n",
    "#nomes dos modelos e suas métricas ROC AUC\n",
    "model_names = ['Random Forest - NO CV', 'Random Forest - CV', 'Regressão Logística', 'Árvore de Decisão']\n",
    "roc_auc_scores = [roc_auc, roc_auc_rf_cv, roc_auc_rl, roc_auc_dt]\n",
    "\n",
    "colors = ['blue', 'green', 'red', 'purple']\n",
    "\n",
    "plt.style.use('ggplot')\n",
    "plt.figure(figsize=(10, 6))\n",
    "bars = plt.barh(model_names, roc_auc_scores, color=colors)\n",
    "\n",
    "for bar, score in zip(bars, roc_auc_scores):\n",
    "    plt.text(bar.get_width() + 0.001,  # Posição do texto\n",
    "             bar.get_y() + bar.get_height() / 2, \n",
    "             f'{score:.3f}', \n",
    "             ha='center', va='center', fontsize=10, rotation=45)\n",
    "\n",
    "plt.xlim(0.85, 1.0)\n",
    "plt.xlabel('ROC AUC')\n",
    "plt.title('Comparação de ROC AUC entre Modelos', fontsize=18)\n",
    "plt.grid(axis='x', linestyle='--', alpha=0.7)\n",
    "plt.legend(['ROC AUC Score'], loc='center left', bbox_to_anchor=(1, 0.5), fontsize=12)\n",
    "\n",
    "plt.tight_layout()\n",
    "plt.show()\n",
    "\n"
   ]
  }
 ],
 "metadata": {
  "application/vnd.databricks.v1+notebook": {
   "dashboards": [],
   "environmentMetadata": null,
   "language": "python",
   "notebookMetadata": {
    "mostRecentlyExecutedCommandWithImplicitDF": {
     "commandId": 1075933098504482,
     "dataframes": [
      "_sqldf"
     ]
    },
    "pythonIndentUnit": 4
   },
   "notebookName": "ML_PROJECT_FRAUD_DETECTION(V3)",
   "widgets": {}
  }
 },
 "nbformat": 4,
 "nbformat_minor": 0
}
